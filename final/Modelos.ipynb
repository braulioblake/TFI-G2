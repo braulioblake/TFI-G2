{
 "cells": [
  {
   "cell_type": "markdown",
   "id": "4b4ff6ab",
   "metadata": {},
   "source": [
    "# Workshop Final - NPL - Clasificación de Sentimientos\n",
    "\n",
    "**Integrantes del grupo:**\n",
    "\n",
    "- Kevin Tasat\n",
    "- Martha Alvarez\n",
    "- Fernando Roa\n",
    "\n",
    "### Resumen\n",
    "\n"
   ]
  },
  {
   "cell_type": "markdown",
   "id": "220bcce7",
   "metadata": {},
   "source": [
    "El dataset a evaluar tiene un total de 16000 textos a los cuales se les asocian diferentes sentimientos o emociones. El objetivo de este trabajo es mediante análisis de lenguaje natural preparar la información y posteriormente entrenar un modelo de clasificación de emociones."
   ]
  },
  {
   "cell_type": "markdown",
   "id": "4756e71f",
   "metadata": {},
   "source": [
    "# Modelos"
   ]
  },
  {
   "cell_type": "markdown",
   "id": "3c658bfb",
   "metadata": {},
   "source": [
    "### Importar librerías"
   ]
  },
  {
   "cell_type": "code",
   "execution_count": 1,
   "id": "ceacadd0",
   "metadata": {},
   "outputs": [],
   "source": [
    "import numpy as np\n",
    "import pandas as pd\n",
    "import seaborn as sns;sns.set_theme(style=\"whitegrid\")\n",
    "import matplotlib.pyplot as plt\n",
    "from matplotlib.pyplot import figure\n",
    "from matplotlib.colors import ListedColormap\n",
    "import statsmodels.api as sm\n",
    "import math\n",
    "from math import sqrt\n",
    "\n",
    "from sklearn import linear_model\n",
    "from sklearn.linear_model import LogisticRegression\n",
    "from sklearn.neighbors import KNeighborsClassifier\n",
    "from sklearn.naive_bayes import GaussianNB\n",
    "from sklearn.feature_extraction.text import TfidfVectorizer\n",
    "from sklearn.naive_bayes import MultinomialNB\n",
    "from sklearn.base import BaseEstimator, TransformerMixin\n",
    "from sklearn import svm\n",
    "from sklearn.model_selection import train_test_split, StratifiedKFold, cross_val_score, KFold, GridSearchCV\n",
    "from sklearn.preprocessing import StandardScaler, MinMaxScaler\n",
    "from sklearn.compose import make_column_transformer\n",
    "from sklearn.metrics import accuracy_score, f1_score, recall_score, precision_score, confusion_matrix, classification_report, auc\n",
    "from sklearn.metrics import roc_curve, roc_auc_score\n",
    "from sklearn import tree\n",
    "from sklearn.ensemble import RandomForestClassifier\n",
    "from sklearn import neighbors\n",
    "from sklearn.feature_extraction.text import CountVectorizer\n",
    "from sklearn.feature_extraction.text import TfidfTransformer\n",
    "from sklearn.linear_model import SGDClassifier\n",
    "from sklearn.pipeline import Pipeline\n",
    "\n",
    "from IPython.display import Image\n",
    "import itertools\n",
    "import plotly.express as px\n",
    "from itertools import chain\n",
    "from pprint import pprint\n",
    "from time import time\n",
    "import logging\n",
    "\n",
    "import nltk\n",
    "from nltk.corpus import stopwords\n",
    "from nltk.stem import WordNetLemmatizer\n",
    "from nltk.tokenize import word_tokenize\n",
    "from nltk.corpus import wordnet as wn\n",
    "from nltk import word_tokenize, pos_tag\n",
    "from collections import defaultdict\n",
    "#nltk.download('all')\n",
    "#nltk.download('averaged_perceptron_tagger')\n",
    "\n",
    "from collections import Counter\n",
    "import re\n",
    "import string\n",
    "\n",
    "from gensim.parsing.preprocessing import remove_stopwords\n",
    "from gensim.parsing.preprocessing import STOPWORDS\n",
    "\n",
    "from textblob import TextBlob\n",
    "\n",
    "from wordhoard import Antonyms\n",
    "import random\n",
    "\n",
    "pd.set_option('display.float_format', lambda x: '%.5f' % x)\n"
   ]
  },
  {
   "cell_type": "markdown",
   "id": "f1d28224",
   "metadata": {},
   "source": [
    "### Lectura del dataset"
   ]
  },
  {
   "cell_type": "code",
   "execution_count": 2,
   "id": "7ab0e142",
   "metadata": {},
   "outputs": [],
   "source": [
    "# Se importa un dataset el cual será usado para entrenamiento\n",
    "\n",
    "df = pd.read_csv('train.txt',delimiter=\";\",header=None,names=['corpus','feeling'])\n",
    "\n",
    "# Se importa un dataset el cual será usado para pruebas\n",
    "\n",
    "df_test=pd.read_csv('test.txt',delimiter=\";\",header=None,names=['corpus','feeling'])"
   ]
  },
  {
   "cell_type": "code",
   "execution_count": 21,
   "id": "207b446f-4167-43ae-bac2-370bc32d3fed",
   "metadata": {},
   "outputs": [
    {
     "data": {
      "text/plain": [
       "['anger', 'fear', 'joy', 'love', 'sadness', 'surprise']"
      ]
     },
     "execution_count": 21,
     "metadata": {},
     "output_type": "execute_result"
    }
   ],
   "source": [
    "# Se listan las clases posibles presentes en el dataset\n",
    "\n",
    "clases=list(df.feeling.unique())\n",
    "clases=sorted(clases)\n",
    "clases"
   ]
  },
  {
   "cell_type": "markdown",
   "id": "2550fc6b",
   "metadata": {},
   "source": [
    "### Creación de funciones"
   ]
  },
  {
   "cell_type": "code",
   "execution_count": 3,
   "id": "0e2fe18b",
   "metadata": {},
   "outputs": [],
   "source": [
    "# Se carga el listado de stopwords que fue afinado en el notebook AnalisisExplor_RefinaStopw.ipynb\n",
    "\n",
    "df_stop_words = pd.read_csv('stopwords.csv')\n",
    "stop_words = df_stop_words['stopwords'].tolist()"
   ]
  },
  {
   "cell_type": "code",
   "execution_count": 4,
   "id": "0164faae",
   "metadata": {},
   "outputs": [],
   "source": [
    "# Se construye un diccionario con contracciones y sus respectivas palabras extendidas\n",
    "\n",
    "contractions = { \n",
    "\"ain't\": \"am not\",\n",
    "\"aren't\": \"am not\",\n",
    "\"can't\": \"cannot\",\n",
    "\"can't've\": \"cannot have\",\n",
    "\"'cause\": \"because\",\n",
    "\"could've\": \"could have\",\n",
    "\"couldn't\": \"could not\",\n",
    "\"couldn't've\": \"could not have\",\n",
    "\"didn't\": \"did not\",\n",
    "\"doesn't\": \"does not\",\n",
    "\"don't\": \"do not\",\n",
    "\"hadn't\": \"had not\",\n",
    "\"hadn't've\": \"had not have\",\n",
    "\"hasn't\": \"has not\",\n",
    "\"haven't\": \"have not\",\n",
    "\"he'd\": \"he had\",\n",
    "\"he'd've\": \"he would have\",\n",
    "\"he'll\": \"he will\",\n",
    "\"he'll've\": \"he will have\",\n",
    "\"he's\": \"he is\",\n",
    "\"how'd\": \"how did\",\n",
    "\"how'd'y\": \"how do you\",\n",
    "\"how'll\": \"how will\",\n",
    "\"how's\": \"how is\",\n",
    "\"i'd\": \"I had\",\n",
    "\"i'd've\": \"I would have\",\n",
    "\"i'll\": \"I will\",\n",
    "\"i'll've\": \"I will have\",\n",
    "\"i'm\": \"I am\",\n",
    "\"i've\": \"I have\",\n",
    "\"isn't\": \"is not\",\n",
    "\"it'd\": \"it had\",\n",
    "\"it'd've\": \"it would have\",\n",
    "\"it'll\": \"it will\",\n",
    "\"it'll've\": \"it will have\",\n",
    "\"it's\": \"it is\",\n",
    "\"let's\": \"let us\",\n",
    "\"ma'am\": \"madam\",\n",
    "\"mayn't\": \"may not\",\n",
    "\"might've\": \"might have\",\n",
    "\"mightn't\": \"might not\",\n",
    "\"mightn't've\": \"might not have\",\n",
    "\"must've\": \"must have\",\n",
    "\"mustn't\": \"must not\",\n",
    "\"mustn't've\": \"must not have\",\n",
    "\"needn't\": \"need not\",\n",
    "\"needn't've\": \"need not have\",\n",
    "\"o'clock\": \"of the clock\",\n",
    "\"oughtn't\": \"ought not\",\n",
    "\"oughtn't've\": \"ought not have\",\n",
    "\"shan't\": \"shall not\",\n",
    "\"sha'n't\": \"shall not\",\n",
    "\"shan't've\": \"shall not have\",\n",
    "\"she'd\": \"she had\",\n",
    "\"she'd've\": \"she would have\",\n",
    "\"she'll\": \"she will\",\n",
    "\"she'll've\": \"she will have\",\n",
    "\"she's\": \"she is\",\n",
    "\"should've\": \"should have\",\n",
    "\"shouldn't\": \"should not\",\n",
    "\"shouldn't've\": \"should not have\",\n",
    "\"so've\": \"so have\",\n",
    "\"so's\": \"so is\",\n",
    "\"that'd\": \"that had\",\n",
    "\"that'd've\": \"that would have\",\n",
    "\"that's\": \"that is\",\n",
    "\"there'd\": \"there had\",\n",
    "\"there'd've\": \"there would have\",\n",
    "\"there's\": \"there is\",\n",
    "\"they'd\": \"they had\",\n",
    "\"they'd've\": \"they would have\",\n",
    "\"they'll\": \"they will\",\n",
    "\"they'll've\": \"they will have\",\n",
    "\"they're\": \"they are\",\n",
    "\"they've\": \"they have\",\n",
    "\"to've\": \"to have\",\n",
    "\"wasn't\": \"was not\",\n",
    "\"we'd\": \"we had\",\n",
    "\"we'd've\": \"we would have\",\n",
    "\"we'll\": \"we will\",\n",
    "\"we'll've\": \"we will have\",\n",
    "\"we're\": \"we are\",\n",
    "\"we've\": \"we have\",\n",
    "\"weren't\": \"were not\",\n",
    "\"what'll\": \"what will\",\n",
    "\"what'll've\": \"what will have\",\n",
    "\"what're\": \"what are\",\n",
    "\"what's\": \"what is\",\n",
    "\"what've\": \"what have\",\n",
    "\"when's\": \"when is\",\n",
    "\"when've\": \"when have\",\n",
    "\"where'd\": \"where did\",\n",
    "\"where's\": \"where is\",\n",
    "\"where've\": \"where have\",\n",
    "\"who'll\": \"who will\",\n",
    "\"who'll've\": \"who will have\",\n",
    "\"who's\": \"who is\",\n",
    "\"who've\": \"who have\",\n",
    "\"why's\": \"why is\",\n",
    "\"why've\": \"why have\",\n",
    "\"will've\": \"will have\",\n",
    "\"won't\": \"will not\",\n",
    "\"won't've\": \"will not have\",\n",
    "\"would've\": \"would have\",\n",
    "\"wouldn't\": \"would not\",\n",
    "\"wouldn't've\": \"would not have\",\n",
    "\"y'all\": \"you all\",\n",
    "\"y'all'd\": \"you all would\",\n",
    "\"y'all'd've\": \"you all would have\",\n",
    "\"y'all're\": \"you all are\",\n",
    "\"y'all've\": \"you all have\",\n",
    "\"you'd\": \"you had\",\n",
    "\"you'd've\": \"you would have\",\n",
    "\"you'll\": \"you will\",\n",
    "\"you'll've\": \"you will have\",\n",
    "\"you're\": \"you are\",\n",
    "\"you've\": \"you have\"\n",
    "}"
   ]
  },
  {
   "cell_type": "code",
   "execution_count": null,
   "id": "06567b5a",
   "metadata": {},
   "outputs": [],
   "source": []
  },
  {
   "cell_type": "code",
   "execution_count": null,
   "id": "b0b92fab",
   "metadata": {},
   "outputs": [],
   "source": []
  },
  {
   "cell_type": "code",
   "execution_count": null,
   "id": "7c5dd56c",
   "metadata": {},
   "outputs": [],
   "source": []
  },
  {
   "cell_type": "code",
   "execution_count": null,
   "id": "69d75c44",
   "metadata": {},
   "outputs": [],
   "source": []
  },
  {
   "cell_type": "code",
   "execution_count": null,
   "id": "bb6e5771",
   "metadata": {},
   "outputs": [],
   "source": []
  },
  {
   "cell_type": "code",
   "execution_count": null,
   "id": "95ceff5f",
   "metadata": {},
   "outputs": [],
   "source": []
  },
  {
   "cell_type": "code",
   "execution_count": null,
   "id": "79b83863",
   "metadata": {},
   "outputs": [],
   "source": []
  },
  {
   "cell_type": "code",
   "execution_count": 5,
   "id": "286ce98f",
   "metadata": {},
   "outputs": [],
   "source": [
    "# Se crea una función para limpiar el texto\n",
    "\n",
    "def clean_text(text):\n",
    "    '''Se remueven caracteres indeseados, stopwords y formatea el texto'''\n",
    "    \n",
    "    # Convertir el texto en minúscula\n",
    "    text = text.lower()\n",
    "    \n",
    "    # Reemplaza contracciones por su formato extendido \n",
    "    if True:\n",
    "        text = text.split()\n",
    "        new_text = []\n",
    "        for word in text:\n",
    "            if word in contractions:\n",
    "                new_text.append(contractions[word])\n",
    "            else:\n",
    "                new_text.append(word)\n",
    "        text = \" \".join(new_text)\n",
    "    \n",
    "    # Formatea palabras y remueve caracteres no deseados\n",
    "    text = re.sub(r'https?:\\/\\/.*[\\r\\n]*', '', text, flags=re.MULTILINE)\n",
    "    text = re.sub(r'\\<a href', ' ', text)\n",
    "    text = re.sub(r'&amp;', '', text) \n",
    "    text = re.sub(r'[_\"\\-;%()|+&=*%.,!?:#$@\\[\\]/]', ' ', text)\n",
    "    text = re.sub(r'<br />', ' ', text)\n",
    "    text = re.sub(r'\\'', ' ', text)\n",
    "    \n",
    "    # Remueve stopwords\n",
    "    text = text.split()\n",
    "    stops = stop_words\n",
    "    text = [w for w in text if not w in stops]\n",
    "    text = \" \".join(text)\n",
    "        \n",
    "    # Corrección de ortografía (tarda demasiado y no da buenos resultados)\n",
    "    \n",
    "    #text = TextBlob(text).correct() \n",
    "    #text = text.__str__() # opcion 1 (tarda demasiado)\n",
    "    #text = '{}'.format(text) #opcion2 (tarda demasiado)\n",
    "    #text = str(TextBlob(text).correct()) #opcion3 (tarda demasiado)\n",
    "    \n",
    "    # Lematizar \n",
    "    \n",
    "    #Defaultdict is a container like dictionaries present in the module collections. \n",
    "    #Defaultdict is a sub-class of the dictionary class that returns a dictionary-like object. \n",
    "    #The functionality of both dictionaries and defaultdict are almost same except for the fact that defaultdict never raises a KeyError. \n",
    "    #It provides a default value for the key that does not exists.\n",
    "\n",
    "    tag_map = defaultdict(lambda : wn.NOUN)\n",
    "    tag_map['J'] = wn.ADJ\n",
    "    tag_map['V'] = wn.VERB\n",
    "    tag_map['R'] = wn.ADV\n",
    "\n",
    "    tokens = word_tokenize(text)\n",
    "    lmtzr = WordNetLemmatizer()\n",
    "    \n",
    "    new_text2=[]\n",
    "    \n",
    "    for token, tag in pos_tag(tokens):\n",
    "        lemma = lmtzr.lemmatize(token, tag_map[tag[0]])\n",
    "        new_text2.append(lemma)\n",
    "        text=\" \".join(new_text2)\n",
    "        \n",
    "    return text"
   ]
  },
  {
   "cell_type": "code",
   "execution_count": 6,
   "id": "62db84e9",
   "metadata": {},
   "outputs": [],
   "source": [
    "# Se crea una función de limpieza lambda a partir de la función de limpieza original\n",
    "\n",
    "clean_lambda = lambda x: clean_text(x)"
   ]
  },
  {
   "cell_type": "code",
   "execution_count": 7,
   "id": "42492689",
   "metadata": {},
   "outputs": [],
   "source": [
    "# Se crea la columna 'clean_corpus' aplicando la función de limpieza\n",
    "\n",
    "df_test['clean_corpus'] = df_test.corpus.apply(clean_lambda)"
   ]
  },
  {
   "cell_type": "code",
   "execution_count": 8,
   "id": "a7f07b9c",
   "metadata": {},
   "outputs": [
    {
     "data": {
      "text/plain": [
       "(2000, 3)"
      ]
     },
     "execution_count": 8,
     "metadata": {},
     "output_type": "execute_result"
    }
   ],
   "source": [
    "# Se valida el tamaño del dataset\n",
    "\n",
    "df_test.shape"
   ]
  },
  {
   "cell_type": "code",
   "execution_count": 9,
   "id": "1bbf8465",
   "metadata": {},
   "outputs": [
    {
     "data": {
      "text/html": [
       "<div>\n",
       "<style scoped>\n",
       "    .dataframe tbody tr th:only-of-type {\n",
       "        vertical-align: middle;\n",
       "    }\n",
       "\n",
       "    .dataframe tbody tr th {\n",
       "        vertical-align: top;\n",
       "    }\n",
       "\n",
       "    .dataframe thead th {\n",
       "        text-align: right;\n",
       "    }\n",
       "</style>\n",
       "<table border=\"1\" class=\"dataframe\">\n",
       "  <thead>\n",
       "    <tr style=\"text-align: right;\">\n",
       "      <th></th>\n",
       "      <th>corpus</th>\n",
       "      <th>feeling</th>\n",
       "      <th>clean_corpus</th>\n",
       "    </tr>\n",
       "  </thead>\n",
       "  <tbody>\n",
       "    <tr>\n",
       "      <th>0</th>\n",
       "      <td>im feeling rather rotten so im not very ambiti...</td>\n",
       "      <td>sadness</td>\n",
       "      <td>rather rotten ambitious</td>\n",
       "    </tr>\n",
       "    <tr>\n",
       "      <th>1</th>\n",
       "      <td>im updating my blog because i feel shitty</td>\n",
       "      <td>sadness</td>\n",
       "      <td>update blog shitty</td>\n",
       "    </tr>\n",
       "    <tr>\n",
       "      <th>2</th>\n",
       "      <td>i never make her separate from me because i do...</td>\n",
       "      <td>sadness</td>\n",
       "      <td>never separate ever ashamed</td>\n",
       "    </tr>\n",
       "    <tr>\n",
       "      <th>3</th>\n",
       "      <td>i left with my bouquet of red and yellow tulip...</td>\n",
       "      <td>joy</td>\n",
       "      <td>leave bouquet red yellow tulip arm slightly op...</td>\n",
       "    </tr>\n",
       "    <tr>\n",
       "      <th>4</th>\n",
       "      <td>i was feeling a little vain when i did this one</td>\n",
       "      <td>sadness</td>\n",
       "      <td>vain</td>\n",
       "    </tr>\n",
       "  </tbody>\n",
       "</table>\n",
       "</div>"
      ],
      "text/plain": [
       "                                              corpus  feeling  \\\n",
       "0  im feeling rather rotten so im not very ambiti...  sadness   \n",
       "1          im updating my blog because i feel shitty  sadness   \n",
       "2  i never make her separate from me because i do...  sadness   \n",
       "3  i left with my bouquet of red and yellow tulip...      joy   \n",
       "4    i was feeling a little vain when i did this one  sadness   \n",
       "\n",
       "                                        clean_corpus  \n",
       "0                            rather rotten ambitious  \n",
       "1                                 update blog shitty  \n",
       "2                        never separate ever ashamed  \n",
       "3  leave bouquet red yellow tulip arm slightly op...  \n",
       "4                                               vain  "
      ]
     },
     "execution_count": 9,
     "metadata": {},
     "output_type": "execute_result"
    }
   ],
   "source": [
    "# Se visualizan los primeros registros del dataset\n",
    "\n",
    "df_test.head()"
   ]
  },
  {
   "cell_type": "markdown",
   "id": "87cf7eb8",
   "metadata": {},
   "source": [
    "### Matriz Sparsa de Test"
   ]
  },
  {
   "cell_type": "code",
   "execution_count": 10,
   "id": "930df6e3",
   "metadata": {},
   "outputs": [],
   "source": [
    "# Se instancia un vectorizador\n",
    "\n",
    "params_tfv = {'max_features': 5000,\n",
    "             'max_df':0.75,\n",
    "             'ngram_range': (1, 2),\n",
    "             'stop_words': stop_words,\n",
    "             'strip_accents': 'unicode',\n",
    "             'norm': 'l1',\n",
    "             'sublinear_tf': True,\n",
    "             'use_idf': True}\n",
    "\n",
    "vectorizer=TfidfVectorizer(**params_tfv)"
   ]
  },
  {
   "cell_type": "code",
   "execution_count": 11,
   "id": "d4cfb43f",
   "metadata": {},
   "outputs": [
    {
     "data": {
      "text/plain": [
       "<2000x5000 sparse matrix of type '<class 'numpy.float64'>'\n",
       "\twith 14023 stored elements in Compressed Sparse Row format>"
      ]
     },
     "execution_count": 11,
     "metadata": {},
     "output_type": "execute_result"
    }
   ],
   "source": [
    "# Se vectoriza el dataframe de test\n",
    "\n",
    "df_test_matrix=vectorizer.fit_transform(df_test.clean_corpus)\n",
    "df_test_matrix"
   ]
  },
  {
   "cell_type": "code",
   "execution_count": null,
   "id": "81930730",
   "metadata": {},
   "outputs": [],
   "source": []
  },
  {
   "cell_type": "code",
   "execution_count": null,
   "id": "87f3e789",
   "metadata": {},
   "outputs": [],
   "source": []
  },
  {
   "cell_type": "code",
   "execution_count": null,
   "id": "7c304a48",
   "metadata": {},
   "outputs": [],
   "source": []
  },
  {
   "cell_type": "markdown",
   "id": "b3090b0c",
   "metadata": {},
   "source": [
    "## Entrenamiento de modelos"
   ]
  },
  {
   "cell_type": "code",
   "execution_count": 12,
   "id": "f843740b",
   "metadata": {
    "tags": []
   },
   "outputs": [],
   "source": [
    "# Clase para identificar negación antes de una palabra\n",
    "# transforma la negación en not y transforma la palabra en su antónimo\n",
    "# Lo anterior trata de invertir el significado luego de pasar el texto por \n",
    "# stop words\n",
    "\n",
    "class negation_transformer(BaseEstimator, TransformerMixin):\n",
    "    \n",
    "    def __init__(self):\n",
    "        pass\n",
    "        \n",
    "    @staticmethod\n",
    "    # negate_sequence(text)\n",
    "    #   text: sentence to process (creation of uni/bi\n",
    "    #    is handled here)\n",
    "    #\n",
    "    # Detects negations and transforms negated words into 'not_' form\n",
    "    #\n",
    "    def negate_sequence(text):\n",
    "\n",
    "        def antonyms_for(word):\n",
    "            antonyms = set()\n",
    "            for ss in wn.synsets(word):\n",
    "                for lemma in ss.lemmas():\n",
    "                    any_pos_antonyms = [ antonym.name() for antonym in lemma.antonyms() ]\n",
    "                    for antonym in any_pos_antonyms:\n",
    "                        antonym_synsets = wn.synsets(antonym)\n",
    "                        if wn.ADJ not in [ ss.pos() for ss in antonym_synsets ]:\n",
    "                            continue\n",
    "                        antonyms.add(antonym)\n",
    "            if antonyms==set():\n",
    "                return word\n",
    "            else:\n",
    "                antonyms=list(antonyms)\n",
    "                return antonyms[0]\n",
    "\n",
    "        negation = False\n",
    "        delims = \"?.,!:;\"\n",
    "        result = []\n",
    "        words = text.split()\n",
    "        prev = None\n",
    "        pprev = None\n",
    "        for word in words:\n",
    "            stripped = word.strip(delims).lower()\n",
    "            negated = \"not \" + stripped if negation else stripped\n",
    "            result.append(negated)\n",
    "\n",
    "            if prev:\n",
    "                bigram = prev + \" \" + negated\n",
    "                pprev = prev\n",
    "            prev = negated\n",
    "\n",
    "            if any(neg in word for neg in [\"not\", \"n't\", \"no\"]):\n",
    "                negation = not negation\n",
    "\n",
    "            if any(c in word for c in delims):\n",
    "                negation = False\n",
    "\n",
    "        for elements in result:\n",
    "            \n",
    "            element=word_tokenize(elements)\n",
    "            \n",
    "            element0=0\n",
    "            element_change=1\n",
    "            \n",
    "            if element[0]==\"not\" and len(element)>1 and element[1]!=\"feel\":\n",
    "                \n",
    "                element0=\" \".join(element)\n",
    "                \n",
    "                element_change=antonyms_for(element[1])\n",
    "        \n",
    "            result=[element_change if item == element0 else item for item in result]\n",
    "\n",
    "        return \" \".join(result)\n",
    "    \n",
    "    def fit(self, texto, y=None):\n",
    "        return self\n",
    "\n",
    "    def transform(self, texto):\n",
    "        if isinstance(texto, pd.Series):\n",
    "            texto=texto.apply(lambda x: self.negate_sequence(x))\n",
    "        else:\n",
    "            texto=pd.Series(texto)\n",
    "            texto=texto.apply(lambda x: self.negate_sequence(x))\n",
    "            \n",
    "        return texto"
   ]
  },
  {
   "cell_type": "code",
   "execution_count": null,
   "id": "01fcf0dc",
   "metadata": {},
   "outputs": [],
   "source": []
  },
  {
   "cell_type": "code",
   "execution_count": null,
   "id": "cd494800",
   "metadata": {},
   "outputs": [],
   "source": []
  },
  {
   "cell_type": "code",
   "execution_count": null,
   "id": "cc584313",
   "metadata": {},
   "outputs": [],
   "source": []
  },
  {
   "cell_type": "code",
   "execution_count": 13,
   "id": "2c7687fb",
   "metadata": {},
   "outputs": [],
   "source": [
    "# Clase para limpiar texto\n",
    "\n",
    "class clean_texto(BaseEstimator, TransformerMixin):\n",
    "    \n",
    "    def __init__(self):\n",
    "        pass\n",
    "        \n",
    "    @staticmethod\n",
    "    def clean_text(text):\n",
    "        '''Remove unwanted characters, stopwords, and format the text to create fewer nulls word embeddings'''\n",
    "\n",
    "        # Convert words to lower case\n",
    "        text = text.lower()\n",
    "\n",
    "        # Replace contractions with their longer forms \n",
    "        if True:\n",
    "            text = text.split()\n",
    "            new_text = []\n",
    "            for word in text:\n",
    "                if word in contractions:\n",
    "                    new_text.append(contractions[word])\n",
    "                else:\n",
    "                    new_text.append(word)\n",
    "            text = \" \".join(new_text)\n",
    "\n",
    "        # Format words and remove unwanted characters\n",
    "        text = re.sub(r'https?:\\/\\/.*[\\r\\n]*', '', text, flags=re.MULTILINE)\n",
    "        text = re.sub(r'\\<a href', ' ', text)\n",
    "        text = re.sub(r'&amp;', '', text) \n",
    "        text = re.sub(r'[_\"\\-;%()|+&=*%.,!?:#$@\\[\\]/]', ' ', text)\n",
    "        text = re.sub(r'<br />', ' ', text)\n",
    "        text = re.sub(r'\\'', ' ', text)\n",
    "\n",
    "        # remove stop words\n",
    "        #if remove_stopwords:\n",
    "        text = text.split()\n",
    "        stops = stop_words\n",
    "        text = [w for w in text if not w in stops]\n",
    "        text = \" \".join(text)\n",
    "\n",
    "        # spelling correction (tarda demasiado y no da buenos resultados)\n",
    "        #text = TextBlob(text).correct() \n",
    "        #text = text.__str__() # opcion 1 (tarda demasiado)\n",
    "        #text = '{}'.format(text) #opcion2 (tarda demasiado)\n",
    "        #text = str(TextBlob(text).correct()) #opcion3 (tarda demasiado)\n",
    "\n",
    "        #Lemmatize \n",
    "\n",
    "        #Defaultdict is a container like dictionaries present in the module collections. \n",
    "        #Defaultdict is a sub-class of the dictionary class that returns a dictionary-like object. \n",
    "        #The functionality of both dictionaries and defaultdict are almost same except for the fact that defaultdict never raises a KeyError. \n",
    "        #It provides a default value for the key that does not exists.\n",
    "        \n",
    "        tag_map = defaultdict(lambda : wn.NOUN)\n",
    "        tag_map['J'] = wn.ADJ\n",
    "        tag_map['V'] = wn.VERB\n",
    "        tag_map['R'] = wn.ADV\n",
    "\n",
    "        tokens = word_tokenize(text)\n",
    "        lmtzr = WordNetLemmatizer()\n",
    "\n",
    "        new_text2=[]\n",
    "\n",
    "        for token, tag in pos_tag(tokens):\n",
    "            lemma = lmtzr.lemmatize(token, tag_map[tag[0]])\n",
    "            new_text2.append(lemma)\n",
    "            text=\" \".join(new_text2)\n",
    "        \n",
    "        return text\n",
    "    \n",
    "    def fit(self, texto, y=None):\n",
    "        return self\n",
    "\n",
    "    def transform(self, texto):\n",
    "        if isinstance(texto, pd.Series):\n",
    "            texto=texto.apply(lambda x: self.clean_text(x))\n",
    "        else:\n",
    "            texto=pd.Series(texto)\n",
    "            texto=texto.apply(lambda x: self.clean_text(x))\n",
    "            \n",
    "        return texto"
   ]
  },
  {
   "cell_type": "markdown",
   "id": "599ee42e",
   "metadata": {},
   "source": [
    "### Modelo MultinomialNB"
   ]
  },
  {
   "cell_type": "raw",
   "id": "14a12ef9",
   "metadata": {
    "tags": []
   },
   "source": [
    "# Se construye un pipeline para el proceso en busca de los mejores hiperparámetros\n",
    "\n",
    "pipeline = Pipeline(\n",
    "    [\n",
    "        (\"vect\", TfidfVectorizer()),\n",
    "        (\"clf\", MultinomialNB()),\n",
    "    ]\n",
    ")\n",
    "\n",
    "# Se establecen los parámetros para usar en el gridsearch de TfidfVectorizer\n",
    "# y para el modelo de clasificación\n",
    "\n",
    "parameters = {\n",
    "    \"vect__max_df\": [0.5, 1.0],\n",
    "    #\"vect__min_df\": (0.5, 0.75, 1.0), \n",
    "    \"vect__strip_accents\": ['unicode'],\n",
    "    'vect__max_features': [None, 5000, 10000],\n",
    "    \"vect__ngram_range\": [(1, 1), (1, 2)],  # unigrams or bigrams\n",
    "    'vect__use_idf': [True, False],\n",
    "    'vect__sublinear_tf': [True, False],\n",
    "    'vect__norm': ['l1', 'l2'],\n",
    "    \"clf__alpha\": [0.01, 0.5, 1.0],\n",
    "    \"clf__fit_prior\": [True, False],\n",
    "    \"vect__stop_words\": [stop_words]\n",
    "}\n",
    "\n",
    "# Se establece un método para crear los folds\n",
    "\n",
    "skf=StratifiedKFold(n_splits=5, shuffle=True, random_state=42)\n",
    "\n",
    "# Se instancia el gridsearch del pipeline\n",
    "\n",
    "grid_search = GridSearchCV(pipeline, parameters, n_jobs=-1, verbose=1,cv=skf)\n",
    "\n",
    "# Se entrena el gridsearch y se obtiene el mejor score y los mejores parámetros\n",
    "\n",
    "print(\"Performing grid search...\")\n",
    "print(\"pipeline:\", [name for name, _ in pipeline.steps])\n",
    "t0 = time()\n",
    "grid_search.fit(df.corpus, df.feeling)\n",
    "print(\"done in %0.3fs\" % (time() - t0))\n",
    "print()\n",
    "\n",
    "print(\"Best score: %0.3f\" % grid_search.best_score_)\n",
    "print(\"Best parameters set:\")\n",
    "best_parameters = grid_search.best_estimator_.get_params()\n",
    "for param_name in sorted(parameters.keys()):\n",
    "    print(\"\\t%s: %r\" % (param_name, best_parameters[param_name]))"
   ]
  },
  {
   "cell_type": "raw",
   "id": "519262e1-0023-406b-b4e3-c7ad234198b2",
   "metadata": {},
   "source": [
    "# Mejores parámetros según gridSearchCV\n",
    "print('Los mejores hiperparámetros encontratos son: \\n')\n",
    "\n",
    "grid_search.best_params_"
   ]
  },
  {
   "cell_type": "code",
   "execution_count": 15,
   "id": "8c150b55",
   "metadata": {},
   "outputs": [],
   "source": [
    "# Se define un pipeline para el Multinomial NB con los mejores hiperparámetros encontrados\n",
    "# usando gridSearchCV\n",
    "\n",
    "parameters_vect = {\n",
    "    \"max_df\": 0.5,\n",
    "    \"strip_accents\": 'unicode', \n",
    "    \"stop_words\": stop_words,\n",
    "    'max_features': 5000,\n",
    "    \"ngram_range\": (1, 2),  \n",
    "    'use_idf': True,\n",
    "    'sublinear_tf': True,\n",
    "    'norm': 'l1'\n",
    "}\n",
    "\n",
    "parameters_clf ={\n",
    "    \"alpha\": 1.0,\n",
    "    \"fit_prior\": False\n",
    "}\n",
    "\n",
    "\n",
    "pasos = [('negation_transformer',negation_transformer()),\n",
    "         ('clean_texto',clean_texto()),\n",
    "         (\"vect\", TfidfVectorizer(**parameters_vect)),\n",
    "         (\"clf\", MultinomialNB(**parameters_clf))]\n",
    "\n",
    "pipe_mnb = Pipeline(pasos)"
   ]
  },
  {
   "cell_type": "code",
   "execution_count": 16,
   "id": "415d9bb3",
   "metadata": {},
   "outputs": [
    {
     "data": {
      "text/plain": [
       "Pipeline(steps=[('negation_transformer', negation_transformer()),\n",
       "                ('clean_texto', clean_texto()),\n",
       "                ('vect',\n",
       "                 TfidfVectorizer(max_df=0.5, max_features=5000,\n",
       "                                 ngram_range=(1, 2), norm='l1',\n",
       "                                 stop_words=['i', 'me', 'my', 'myself', 'we',\n",
       "                                             'our', 'ours', 'ourselves', 'you',\n",
       "                                             \"you're\", \"you've\", \"you'll\",\n",
       "                                             \"you'd\", 'your', 'yours',\n",
       "                                             'yourself', 'yourselves', 'he',\n",
       "                                             'him', 'his', 'himself', 'she',\n",
       "                                             \"she's\", 'her', 'hers', 'herself',\n",
       "                                             'it', \"it's\", 'its', 'itself', ...],\n",
       "                                 strip_accents='unicode', sublinear_tf=True)),\n",
       "                ('clf', MultinomialNB(fit_prior=False))])"
      ]
     },
     "execution_count": 16,
     "metadata": {},
     "output_type": "execute_result"
    }
   ],
   "source": [
    "pipe_mnb.fit(df.corpus, df.feeling)"
   ]
  },
  {
   "cell_type": "code",
   "execution_count": 17,
   "id": "7cd1ad65",
   "metadata": {},
   "outputs": [],
   "source": [
    "X_test_mnb=df_test['corpus']"
   ]
  },
  {
   "cell_type": "code",
   "execution_count": 18,
   "id": "19c41e1a",
   "metadata": {},
   "outputs": [],
   "source": [
    "y_test_mnb=df_test['feeling']"
   ]
  },
  {
   "cell_type": "code",
   "execution_count": 19,
   "id": "b4dcd346",
   "metadata": {},
   "outputs": [
    {
     "data": {
      "text/plain": [
       "joy         695\n",
       "sadness     581\n",
       "anger       275\n",
       "fear        224\n",
       "love        159\n",
       "surprise     66\n",
       "Name: feeling, dtype: int64"
      ]
     },
     "execution_count": 19,
     "metadata": {},
     "output_type": "execute_result"
    }
   ],
   "source": [
    "y_test_mnb.value_counts()"
   ]
  },
  {
   "cell_type": "code",
   "execution_count": 22,
   "id": "643e5779",
   "metadata": {},
   "outputs": [
    {
     "data": {
      "image/png": "[encoded data removed]",
      "text/plain": [
       "<Figure size 432x288 with 2 Axes>"
      ]
     },
     "metadata": {},
     "output_type": "display_data"
    },
    {
     "name": "stdout",
     "output_type": "stream",
     "text": [
      "              precision    recall  f1-score   support\n",
      "\n",
      "       anger     0.8667    0.8036    0.8340       275\n",
      "        fear     0.8077    0.7500    0.7778       224\n",
      "         joy     0.7969    0.8863    0.8392       695\n",
      "        love     0.6714    0.5912    0.6288       159\n",
      "     sadness     0.8522    0.8434    0.8478       581\n",
      "    surprise     0.7347    0.5455    0.6261        66\n",
      "\n",
      "    accuracy                         0.8125      2000\n",
      "   macro avg     0.7883    0.7367    0.7589      2000\n",
      "weighted avg     0.8117    0.8125    0.8103      2000\n",
      "\n"
     ]
    }
   ],
   "source": [
    "# Calculamos las predicciones y métricas sobre la data de prueba\n",
    "\n",
    "predicciones_mnb =pipe_mnb.predict(X_test_mnb)\n",
    "sns.heatmap(confusion_matrix(y_test_mnb, predicciones_mnb), annot=True, fmt='4d',xticklabels=clases, yticklabels=clases)\n",
    "plt.xlabel('Predichos')\n",
    "plt.ylabel('Reales')\n",
    "plt.title('Matriz de Confusión Multinomial Naive Bayes', fontsize=16)\n",
    "plt.show()\n",
    "print(classification_report(y_test_mnb, predicciones_mnb, digits=4))"
   ]
  },
  {
   "cell_type": "code",
   "execution_count": 30,
   "id": "cd68f996",
   "metadata": {},
   "outputs": [
    {
     "data": {
      "text/plain": [
       "'joy'"
      ]
     },
     "execution_count": 30,
     "metadata": {},
     "output_type": "execute_result"
    }
   ],
   "source": [
    "x=pipe_mnb.predict(\"Today I feel confident while talking to people, and feel that I have been able to develop some control over my own life.\")\n",
    "x[0]"
   ]
  },
  {
   "cell_type": "markdown",
   "id": "e250523d",
   "metadata": {},
   "source": [
    "**Conclusión:** El modelo Multinomial Naive Bayes tiene un buen rendimiento, con un accuracy del 81.60%"
   ]
  },
  {
   "cell_type": "markdown",
   "id": "210f6cd3",
   "metadata": {},
   "source": [
    "### Random Forest"
   ]
  },
  {
   "cell_type": "raw",
   "id": "49823c58",
   "metadata": {
    "tags": []
   },
   "source": [
    "# Se construye un pipeline para el proceso en busca de los mejores hiperparámetros\n",
    "\n",
    "pipeline = Pipeline(\n",
    "    [\n",
    "        (\"vect\", TfidfVectorizer()),\n",
    "        (\"clf\", RandomForestClassifier()),\n",
    "    ]\n",
    ")\n",
    "\n",
    "# Se establecen los parámetros para usar en el gridsearch de TfidfVectorizer\n",
    "# y para el modelo de clasificación\n",
    "\n",
    "parameters = {\n",
    "    \"vect__max_df\": (0.5, 1.0),\n",
    "    #\"vect__min_df\": (0.5, 0.75, 1.0), \n",
    "    \"vect__strip_accents\": ['unicode'], \n",
    "    \"vect__stop_words\": [stop_words],\n",
    "    'vect__max_features': [None, 5000, 10000],\n",
    "    \"vect__ngram_range\": [(1, 1), (1, 2)],  # unigrams or bigrams\n",
    "    'vect__use_idf': [True, False],\n",
    "    'vect__sublinear_tf': [True, False],\n",
    "    'vect__norm': ['l1', 'l2'],\n",
    "    \"clf__bootstrap\": [False],\n",
    "    \"clf__criterion\": ['gini','entropy'],\n",
    "    \"clf__max_depth\": [4,8],\n",
    "    \"clf__max_features\": ['sqrt'],\n",
    "    \"clf__min_samples_leaf\": [8,16],\n",
    "    \"clf__min_samples_split\": [5,10],\n",
    "    \"clf__class_weight\": ['balanced','balanced_subsample'],\n",
    "    \"clf__n_estimators\": [50],\n",
    "    \n",
    "}\n",
    "\n",
    "\n",
    "# Se establece un método para crear los folds\n",
    "\n",
    "skf=StratifiedKFold(n_splits=5, shuffle=True, random_state=42)\n",
    "\n",
    "# Se instancia el gridsearch del pipeline\n",
    "\n",
    "grid_search = GridSearchCV(pipeline, parameters, n_jobs=-1, verbose=1,cv=skf)\n",
    "\n",
    "# Se entrena el gridsearch y se obtiene el mejor score y los mejores parámetros\n",
    "\n",
    "print(\"Performing grid search...\")\n",
    "print(\"pipeline:\", [name for name, _ in pipeline.steps])\n",
    "t0 = time()\n",
    "grid_search.fit(df.corpus, df.feeling)\n",
    "print(\"done in %0.3fs\" % (time() - t0))\n",
    "print()\n",
    "\n",
    "print(\"Best score: %0.3f\" % grid_search.best_score_)\n",
    "print(\"Best parameters set:\")\n",
    "best_parameters = grid_search.best_estimator_.get_params()\n",
    "for param_name in sorted(parameters.keys()):\n",
    "    print(\"\\t%s: %r\" % (param_name, best_parameters[param_name]))"
   ]
  },
  {
   "cell_type": "raw",
   "id": "ce987d38-7528-4d8a-bd09-87d4c87b8970",
   "metadata": {},
   "source": [
    "# Mejores parámetros según gridSearchCV\n",
    "print('Los mejores hiperparámetros encontratos son: \\n')\n",
    "\n",
    "grid_search.best_params_"
   ]
  },
  {
   "cell_type": "code",
   "execution_count": 31,
   "id": "9b4e7bb0",
   "metadata": {},
   "outputs": [],
   "source": [
    "# Se define un pipeline para el Random Forest con los mejores hiperparámetros encontrados\n",
    "# usando gridSearchCV\n",
    "\n",
    "parameters_vect = {\n",
    "    \"max_df\": 0.5,\n",
    "    \"strip_accents\": 'unicode', \n",
    "    \"stop_words\": stop_words,\n",
    "    'max_features': None,\n",
    "    \"ngram_range\": (1, 1),  \n",
    "    'use_idf': True,\n",
    "    'sublinear_tf': True,\n",
    "    'norm': 'l2'\n",
    "}\n",
    "\n",
    "\n",
    "parameters_clf ={\n",
    "    'bootstrap': False, \n",
    "               'class_weight': 'balanced_subsample', \n",
    "               'criterion': 'gini',\n",
    "               'max_depth': 8, \n",
    "               'max_features': 'auto', \n",
    "               'min_samples_leaf': 8,\n",
    "               'min_samples_split': 5, \n",
    "               'n_estimators': 100\n",
    "}\n",
    "\n",
    "\n",
    "pasos = [('negation_transformer',negation_transformer()),\n",
    "         ('clean_texto',clean_texto()),\n",
    "         (\"vect\", TfidfVectorizer(**parameters_vect)),\n",
    "         (\"clf\", RandomForestClassifier(**parameters_clf))]\n",
    "\n",
    "pipe_rf = Pipeline(pasos)"
   ]
  },
  {
   "cell_type": "code",
   "execution_count": 32,
   "id": "9bc7db84",
   "metadata": {},
   "outputs": [
    {
     "data": {
      "text/plain": [
       "Pipeline(steps=[('negation_transformer', negation_transformer()),\n",
       "                ('clean_texto', clean_texto()),\n",
       "                ('vect',\n",
       "                 TfidfVectorizer(max_df=0.5,\n",
       "                                 stop_words=['i', 'me', 'my', 'myself', 'we',\n",
       "                                             'our', 'ours', 'ourselves', 'you',\n",
       "                                             \"you're\", \"you've\", \"you'll\",\n",
       "                                             \"you'd\", 'your', 'yours',\n",
       "                                             'yourself', 'yourselves', 'he',\n",
       "                                             'him', 'his', 'himself', 'she',\n",
       "                                             \"she's\", 'her', 'hers', 'herself',\n",
       "                                             'it', \"it's\", 'its', 'itself', ...],\n",
       "                                 strip_accents='unicode', sublinear_tf=True)),\n",
       "                ('clf',\n",
       "                 RandomForestClassifier(bootstrap=False,\n",
       "                                        class_weight='balanced_subsample',\n",
       "                                        max_depth=8, min_samples_leaf=8,\n",
       "                                        min_samples_split=5))])"
      ]
     },
     "execution_count": 32,
     "metadata": {},
     "output_type": "execute_result"
    }
   ],
   "source": [
    "pipe_rf.fit(df.corpus, df.feeling)"
   ]
  },
  {
   "cell_type": "code",
   "execution_count": 33,
   "id": "305ecd0f",
   "metadata": {},
   "outputs": [],
   "source": [
    "X_test_mnb=df_test['corpus']"
   ]
  },
  {
   "cell_type": "code",
   "execution_count": 34,
   "id": "47a401a5",
   "metadata": {},
   "outputs": [],
   "source": [
    "y_test_mnb=df_test['feeling']"
   ]
  },
  {
   "cell_type": "code",
   "execution_count": 35,
   "id": "b22d86bf",
   "metadata": {},
   "outputs": [
    {
     "data": {
      "image/png": "[encoded data removed]",
      "text/plain": [
       "<Figure size 432x288 with 2 Axes>"
      ]
     },
     "metadata": {},
     "output_type": "display_data"
    },
    {
     "name": "stdout",
     "output_type": "stream",
     "text": [
      "              precision    recall  f1-score   support\n",
      "\n",
      "       anger     0.8595    0.7564    0.8046       275\n",
      "        fear     0.7900    0.7054    0.7453       224\n",
      "         joy     0.6621    0.8374    0.7395       695\n",
      "        love     0.5758    0.8365    0.6821       159\n",
      "     sadness     0.9162    0.5267    0.6689       581\n",
      "    surprise     0.5351    0.9242    0.6778        66\n",
      "\n",
      "    accuracy                         0.7240      2000\n",
      "   macro avg     0.7231    0.7644    0.7197      2000\n",
      "weighted avg     0.7663    0.7240    0.7220      2000\n",
      "\n"
     ]
    }
   ],
   "source": [
    "# Calculamos las predicciones y métricas sobre la data de prueba\n",
    "\n",
    "\n",
    "predicciones_rf = pipe_rf.predict(X_test_mnb)\n",
    "sns.heatmap(confusion_matrix(y_test_mnb, predicciones_rf), annot=True, fmt='4d',xticklabels=clases, yticklabels=clases)\n",
    "plt.xlabel('Predichos')\n",
    "plt.ylabel('Reales')\n",
    "plt.title('Matriz de Confusión Random Forest', fontsize=16)\n",
    "plt.show()\n",
    "print(classification_report(y_test_mnb, predicciones_rf, digits=4))"
   ]
  },
  {
   "cell_type": "markdown",
   "id": "8c1560b5",
   "metadata": {},
   "source": [
    "**Conclusión:** El modelo funciona de forma aceptable para la mayoría de sentimientos, a excepción de 'fear', sentimiento que en una buena proporción es predicho como 'love'. Alcanza un accuracy del 70.40%"
   ]
  },
  {
   "cell_type": "code",
   "execution_count": null,
   "id": "b0cb6c70",
   "metadata": {},
   "outputs": [],
   "source": []
  },
  {
   "cell_type": "markdown",
   "id": "6846bbea",
   "metadata": {},
   "source": [
    "### Multinomial Logistic Regression"
   ]
  },
  {
   "cell_type": "raw",
   "id": "5a15caf4",
   "metadata": {},
   "source": [
    "# Se construye un pipeline para el proceso en busca de los mejores hiperparámetros\n",
    "\n",
    "pipeline = Pipeline(\n",
    "    [\n",
    "        (\"vect\", TfidfVectorizer()),\n",
    "        (\"clf\", LogisticRegression()),\n",
    "    ]\n",
    ")\n",
    "\n",
    "# Se establecen los parámetros para usar en el gridsearch de TfidfVectorizer\n",
    "# y para el modelo de clasificación\n",
    "\n",
    "parameters = {\n",
    "    \"vect__max_df\": (0.5, 1.0),\n",
    "    #\"vect__min_df\": (0.5, 0.75, 1.0), \n",
    "    \"vect__strip_accents\": ['unicode'], \n",
    "    \"vect__stop_words\": [stop_words],\n",
    "    'vect__max_features': [None, 5000, 10000],\n",
    "    \"vect__ngram_range\": [(1, 1), (1, 2)],  # unigrams or bigrams\n",
    "    'vect__use_idf': [True, False],\n",
    "    'vect__sublinear_tf': [True, False],\n",
    "    'vect__norm': ['l1', 'l2'],\n",
    "    \"clf__penalty\": ['l2'],\n",
    "    \"clf__fit_intercept\": [True,False],\n",
    "    \"clf__C\": [0.1,0.5,1.0],\n",
    "    \"clf__class_weight\": ['balanced',None],\n",
    "    \"clf__multi_class\": ['multinomial'],\n",
    "    \"clf__solver\": ['lbfgs'],\n",
    "    \"clf__max_iter\": [500]\n",
    "    \n",
    "}\n",
    "\n",
    "# Se establece un método para crear los folds\n",
    "\n",
    "skf=StratifiedKFold(n_splits=5, shuffle=True, random_state=42)\n",
    "\n",
    "# Se instancia el gridsearch del pipeline\n",
    "\n",
    "grid_search = GridSearchCV(pipeline, parameters, n_jobs=-1, verbose=1,cv=skf)\n",
    "\n",
    "# Se entrena el gridsearch y se obtiene el mejor score y los mejores parámetros\n",
    "\n",
    "print(\"Performing grid search...\")\n",
    "print(\"pipeline:\", [name for name, _ in pipeline.steps])\n",
    "t0 = time()\n",
    "grid_search.fit(df.corpus, df.feeling)\n",
    "print(\"done in %0.3fs\" % (time() - t0))\n",
    "print()\n",
    "\n",
    "print(\"Best score: %0.3f\" % grid_search.best_score_)\n",
    "print(\"Best parameters set:\")\n",
    "best_parameters = grid_search.best_estimator_.get_params()\n",
    "for param_name in sorted(parameters.keys()):\n",
    "    print(\"\\t%s: %r\" % (param_name, best_parameters[param_name]))"
   ]
  },
  {
   "cell_type": "raw",
   "id": "ca6a14f5-f845-4875-bbdd-3c5b249be8d9",
   "metadata": {},
   "source": [
    "# Mejores parámetros según gridSearchCV\n",
    "print('Los mejores hiperparámetros encontratos son: \\n')\n",
    "\n",
    "grid_search.best_params_"
   ]
  },
  {
   "cell_type": "code",
   "execution_count": 37,
   "id": "0ee36575",
   "metadata": {},
   "outputs": [],
   "source": [
    "# Se define un pipeline para el Multinomial Logistic regresion con los mejores hiperparámetros encontrados\n",
    "# usando gridSearchCV\n",
    "\n",
    "parameters_vect = {\n",
    "    \"max_df\": 0.5,\n",
    "    \"strip_accents\": 'unicode', \n",
    "    \"stop_words\": stop_words,\n",
    "    'max_features': 5000,\n",
    "    \"ngram_range\": (1, 1),  \n",
    "    'use_idf': True,\n",
    "    'sublinear_tf': True,\n",
    "    'norm': 'l2'\n",
    "}\n",
    "\n",
    "parameters_clf ={\n",
    "    'penalty':'l2',\n",
    "    'fit_intercept':True,\n",
    "    'C':1.0,\n",
    "    'class_weight': 'balanced',\n",
    "    'multi_class': 'multinomial',\n",
    "    'solver':'lbfgs',\n",
    "    'max_iter':500\n",
    "}\n",
    "\n",
    "\n",
    "pasos = [('negation_transformer',negation_transformer()),\n",
    "         ('clean_texto',clean_texto()),\n",
    "         (\"vect\", TfidfVectorizer(**parameters_vect)),\n",
    "         (\"clf\", LogisticRegression(**parameters_clf))]\n",
    "\n",
    "pipe_lr =Pipeline(pasos)"
   ]
  },
  {
   "cell_type": "code",
   "execution_count": 38,
   "id": "f632c602",
   "metadata": {},
   "outputs": [
    {
     "data": {
      "text/plain": [
       "Pipeline(steps=[('negation_transformer', negation_transformer()),\n",
       "                ('clean_texto', clean_texto()),\n",
       "                ('vect',\n",
       "                 TfidfVectorizer(max_df=0.5, max_features=5000,\n",
       "                                 stop_words=['i', 'me', 'my', 'myself', 'we',\n",
       "                                             'our', 'ours', 'ourselves', 'you',\n",
       "                                             \"you're\", \"you've\", \"you'll\",\n",
       "                                             \"you'd\", 'your', 'yours',\n",
       "                                             'yourself', 'yourselves', 'he',\n",
       "                                             'him', 'his', 'himself', 'she',\n",
       "                                             \"she's\", 'her', 'hers', 'herself',\n",
       "                                             'it', \"it's\", 'its', 'itself', ...],\n",
       "                                 strip_accents='unicode', sublinear_tf=True)),\n",
       "                ('clf',\n",
       "                 LogisticRegression(class_weight='balanced', max_iter=500,\n",
       "                                    multi_class='multinomial'))])"
      ]
     },
     "execution_count": 38,
     "metadata": {},
     "output_type": "execute_result"
    }
   ],
   "source": [
    "pipe_lr.fit(df.corpus, df.feeling)"
   ]
  },
  {
   "cell_type": "code",
   "execution_count": 39,
   "id": "7f741b2d",
   "metadata": {},
   "outputs": [],
   "source": [
    "X_test_mnb=df_test['corpus']"
   ]
  },
  {
   "cell_type": "code",
   "execution_count": 40,
   "id": "7eab0c87",
   "metadata": {},
   "outputs": [],
   "source": [
    "y_test_mnb=df_test['feeling']"
   ]
  },
  {
   "cell_type": "code",
   "execution_count": 42,
   "id": "6d6a85a5",
   "metadata": {},
   "outputs": [
    {
     "data": {
      "image/png": "[encoded data removed]",
      "text/plain": [
       "<Figure size 432x288 with 2 Axes>"
      ]
     },
     "metadata": {},
     "output_type": "display_data"
    },
    {
     "name": "stdout",
     "output_type": "stream",
     "text": [
      "              precision    recall  f1-score   support\n",
      "\n",
      "       anger     0.8394    0.8364    0.8379       275\n",
      "        fear     0.7662    0.7902    0.7780       224\n",
      "         joy     0.8913    0.8259    0.8574       695\n",
      "        love     0.6182    0.8553    0.7177       159\n",
      "     sadness     0.9087    0.8227    0.8636       581\n",
      "    surprise     0.5905    0.9394    0.7251        66\n",
      "\n",
      "    accuracy                         0.8285      2000\n",
      "   macro avg     0.7691    0.8450    0.7966      2000\n",
      "weighted avg     0.8436    0.8285    0.8321      2000\n",
      "\n"
     ]
    }
   ],
   "source": [
    "# Calculamos las predicciones y métricas sobre la data de prueba\n",
    "\n",
    "predicciones_lr=pipe_lr.predict(X_test_mnb)\n",
    "sns.heatmap(confusion_matrix(y_test_mnb, predicciones_lr), annot=True, fmt='4d',xticklabels=clases, yticklabels=clases)\n",
    "plt.xlabel('Predichos')\n",
    "plt.ylabel('Reales')\n",
    "plt.title('Matriz de Confusión Multinomial Logistic Regression', fontsize=16)\n",
    "plt.show()\n",
    "print(classification_report(y_test_mnb, predicciones_lr, digits=4))"
   ]
  },
  {
   "cell_type": "markdown",
   "id": "0d7590a5",
   "metadata": {},
   "source": [
    "**Conclusion:** El modelo tiene un rendimiento bastante bueno, alcanzando un accuracy del 83.10%, siendo el mejor resultado entre los modelos entrenados."
   ]
  },
  {
   "cell_type": "markdown",
   "id": "17edbeb7",
   "metadata": {},
   "source": [
    "## Comparativo modelos"
   ]
  },
  {
   "cell_type": "code",
   "execution_count": 43,
   "id": "a00c3f8f",
   "metadata": {},
   "outputs": [
    {
     "data": {
      "text/html": [
       "<div>\n",
       "<style scoped>\n",
       "    .dataframe tbody tr th:only-of-type {\n",
       "        vertical-align: middle;\n",
       "    }\n",
       "\n",
       "    .dataframe tbody tr th {\n",
       "        vertical-align: top;\n",
       "    }\n",
       "\n",
       "    .dataframe thead th {\n",
       "        text-align: right;\n",
       "    }\n",
       "</style>\n",
       "<table border=\"1\" class=\"dataframe\">\n",
       "  <thead>\n",
       "    <tr style=\"text-align: right;\">\n",
       "      <th></th>\n",
       "      <th>Modelo</th>\n",
       "      <th>Accuracy_test</th>\n",
       "    </tr>\n",
       "  </thead>\n",
       "  <tbody>\n",
       "    <tr>\n",
       "      <th>0</th>\n",
       "      <td>Multinomial Naive Bayes</td>\n",
       "      <td>0.81250</td>\n",
       "    </tr>\n",
       "    <tr>\n",
       "      <th>1</th>\n",
       "      <td>Random Forest</td>\n",
       "      <td>0.72400</td>\n",
       "    </tr>\n",
       "    <tr>\n",
       "      <th>2</th>\n",
       "      <td>Multinomial Logistic R</td>\n",
       "      <td>0.82850</td>\n",
       "    </tr>\n",
       "  </tbody>\n",
       "</table>\n",
       "</div>"
      ],
      "text/plain": [
       "                    Modelo  Accuracy_test\n",
       "0  Multinomial Naive Bayes        0.81250\n",
       "1            Random Forest        0.72400\n",
       "2   Multinomial Logistic R        0.82850"
      ]
     },
     "execution_count": 43,
     "metadata": {},
     "output_type": "execute_result"
    }
   ],
   "source": [
    "# Calculamos el accuracy de cada modelo en la data de test\n",
    "\n",
    "acc_mnb = accuracy_score(y_test_mnb, predicciones_mnb)\n",
    "acc_rf = accuracy_score(y_test_mnb, predicciones_rf)\n",
    "acc_lg = accuracy_score(y_test_mnb, predicciones_lr)\n",
    "\n",
    "comparativo = pd.DataFrame({'Modelo': ['Multinomial Naive Bayes',\n",
    "                                      'Random Forest',\n",
    "                                      'Multinomial Logistic R'],\n",
    "                            'Accuracy_test':[acc_mnb,\n",
    "                                            acc_rf,\n",
    "                                            acc_lg]})\n",
    "\n",
    "comparativo.head()                "
   ]
  },
  {
   "cell_type": "markdown",
   "id": "d249701d",
   "metadata": {},
   "source": [
    "**Conclusión:** El modelo elegido para utilizar en el bot de telegram es el Multinomail Logistic Regression considerando que alcanzó un mayor accuracy al evaluar la data de test."
   ]
  },
  {
   "cell_type": "markdown",
   "id": "416f0030",
   "metadata": {},
   "source": [
    "## Guardar el modelo seleccionado"
   ]
  },
  {
   "cell_type": "code",
   "execution_count": 44,
   "id": "9329ff2b",
   "metadata": {},
   "outputs": [
    {
     "data": {
      "text/plain": [
       "['pipe_model.sav']"
      ]
     },
     "execution_count": 44,
     "metadata": {},
     "output_type": "execute_result"
    }
   ],
   "source": [
    "# Importamos la librería joblib para guardar el pipe del modelo\n",
    "\n",
    "import joblib\n",
    "\n",
    "path_pipe = \"pipe_model.sav\"\n",
    "joblib.dump(pipe_lr, path_pipe)"
   ]
  },
  {
   "cell_type": "code",
   "execution_count": null,
   "id": "d39f9876-eac0-4548-89e9-1828ddb0832d",
   "metadata": {},
   "outputs": [],
   "source": []
  }
 ],
 "metadata": {
  "kernelspec": {
   "display_name": "Python 3 (ipykernel)",
   "language": "python",
   "name": "python3"
  },
  "language_info": {
   "codemirror_mode": {
    "name": "ipython",
    "version": 3
   },
   "file_extension": ".py",
   "mimetype": "text/x-python",
   "name": "python",
   "nbconvert_exporter": "python",
   "pygments_lexer": "ipython3",
   "version": "3.9.7"
  }
 },
 "nbformat": 4,
 "nbformat_minor": 5
}
